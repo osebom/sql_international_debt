{
 "cells": [
  {
   "cell_type": "code",
   "execution_count": 1,
   "metadata": {},
   "outputs": [
    {
     "data": {
      "text/plain": [
       "'Connected: @international_debt'"
      ]
     },
     "execution_count": 1,
     "metadata": {},
     "output_type": "execute_result"
    }
   ],
   "source": [
    "%%sql\n",
    "postgresql:///international_debt\n",
    "    "
   ]
  },
  {
   "cell_type": "code",
   "execution_count": 2,
   "metadata": {},
   "outputs": [
    {
     "name": "stdout",
     "output_type": "stream",
     "text": [
      " * postgresql:///international_debt\n",
      "1 rows affected.\n"
     ]
    },
    {
     "data": {
      "text/html": [
       "<table>\n",
       "    <tr>\n",
       "        <th>total_distinct_countries</th>\n",
       "    </tr>\n",
       "    <tr>\n",
       "        <td>124</td>\n",
       "    </tr>\n",
       "</table>"
      ],
      "text/plain": [
       "[(124,)]"
      ]
     },
     "execution_count": 2,
     "metadata": {},
     "output_type": "execute_result"
    }
   ],
   "source": [
    "%%sql\n",
    "SELECT COUNT(DISTINCT country_name) AS total_distinct_countries\n",
    "FROM international_debt;"
   ]
  },
  {
   "cell_type": "code",
   "execution_count": 8,
   "metadata": {},
   "outputs": [
    {
     "name": "stdout",
     "output_type": "stream",
     "text": [
      " * postgresql:///international_debt\n",
      "25 rows affected.\n"
     ]
    },
    {
     "data": {
      "text/html": [
       "<table>\n",
       "    <tr>\n",
       "        <th>distinct_debt_indicators</th>\n",
       "    </tr>\n",
       "    <tr>\n",
       "        <td>DT.AMT.BLAT.CD</td>\n",
       "    </tr>\n",
       "    <tr>\n",
       "        <td>DT.AMT.DLXF.CD</td>\n",
       "    </tr>\n",
       "    <tr>\n",
       "        <td>DT.AMT.DPNG.CD</td>\n",
       "    </tr>\n",
       "    <tr>\n",
       "        <td>DT.AMT.MLAT.CD</td>\n",
       "    </tr>\n",
       "    <tr>\n",
       "        <td>DT.AMT.OFFT.CD</td>\n",
       "    </tr>\n",
       "    <tr>\n",
       "        <td>DT.AMT.PBND.CD</td>\n",
       "    </tr>\n",
       "    <tr>\n",
       "        <td>DT.AMT.PCBK.CD</td>\n",
       "    </tr>\n",
       "    <tr>\n",
       "        <td>DT.AMT.PROP.CD</td>\n",
       "    </tr>\n",
       "    <tr>\n",
       "        <td>DT.AMT.PRVT.CD</td>\n",
       "    </tr>\n",
       "    <tr>\n",
       "        <td>DT.DIS.BLAT.CD</td>\n",
       "    </tr>\n",
       "    <tr>\n",
       "        <td>DT.DIS.DLXF.CD</td>\n",
       "    </tr>\n",
       "    <tr>\n",
       "        <td>DT.DIS.MLAT.CD</td>\n",
       "    </tr>\n",
       "    <tr>\n",
       "        <td>DT.DIS.OFFT.CD</td>\n",
       "    </tr>\n",
       "    <tr>\n",
       "        <td>DT.DIS.PCBK.CD</td>\n",
       "    </tr>\n",
       "    <tr>\n",
       "        <td>DT.DIS.PROP.CD</td>\n",
       "    </tr>\n",
       "    <tr>\n",
       "        <td>DT.DIS.PRVT.CD</td>\n",
       "    </tr>\n",
       "    <tr>\n",
       "        <td>DT.INT.BLAT.CD</td>\n",
       "    </tr>\n",
       "    <tr>\n",
       "        <td>DT.INT.DLXF.CD</td>\n",
       "    </tr>\n",
       "    <tr>\n",
       "        <td>DT.INT.DPNG.CD</td>\n",
       "    </tr>\n",
       "    <tr>\n",
       "        <td>DT.INT.MLAT.CD</td>\n",
       "    </tr>\n",
       "    <tr>\n",
       "        <td>DT.INT.OFFT.CD</td>\n",
       "    </tr>\n",
       "    <tr>\n",
       "        <td>DT.INT.PBND.CD</td>\n",
       "    </tr>\n",
       "    <tr>\n",
       "        <td>DT.INT.PCBK.CD</td>\n",
       "    </tr>\n",
       "    <tr>\n",
       "        <td>DT.INT.PROP.CD</td>\n",
       "    </tr>\n",
       "    <tr>\n",
       "        <td>DT.INT.PRVT.CD</td>\n",
       "    </tr>\n",
       "</table>"
      ],
      "text/plain": [
       "[('DT.AMT.BLAT.CD',),\n",
       " ('DT.AMT.DLXF.CD',),\n",
       " ('DT.AMT.DPNG.CD',),\n",
       " ('DT.AMT.MLAT.CD',),\n",
       " ('DT.AMT.OFFT.CD',),\n",
       " ('DT.AMT.PBND.CD',),\n",
       " ('DT.AMT.PCBK.CD',),\n",
       " ('DT.AMT.PROP.CD',),\n",
       " ('DT.AMT.PRVT.CD',),\n",
       " ('DT.DIS.BLAT.CD',),\n",
       " ('DT.DIS.DLXF.CD',),\n",
       " ('DT.DIS.MLAT.CD',),\n",
       " ('DT.DIS.OFFT.CD',),\n",
       " ('DT.DIS.PCBK.CD',),\n",
       " ('DT.DIS.PROP.CD',),\n",
       " ('DT.DIS.PRVT.CD',),\n",
       " ('DT.INT.BLAT.CD',),\n",
       " ('DT.INT.DLXF.CD',),\n",
       " ('DT.INT.DPNG.CD',),\n",
       " ('DT.INT.MLAT.CD',),\n",
       " ('DT.INT.OFFT.CD',),\n",
       " ('DT.INT.PBND.CD',),\n",
       " ('DT.INT.PCBK.CD',),\n",
       " ('DT.INT.PROP.CD',),\n",
       " ('DT.INT.PRVT.CD',)]"
      ]
     },
     "execution_count": 8,
     "metadata": {},
     "output_type": "execute_result"
    }
   ],
   "source": [
    "%%sql \n",
    "SELECT \n",
    "    DISTINCT indicator_code AS distinct_debt_indicators\n",
    "FROM international_debt\n",
    "ORDER BY distinct_debt_indicators;"
   ]
  },
  {
   "cell_type": "code",
   "execution_count": 9,
   "metadata": {},
   "outputs": [
    {
     "name": "stdout",
     "output_type": "stream",
     "text": [
      " * postgresql:///international_debt\n",
      "1 rows affected.\n"
     ]
    },
    {
     "data": {
      "text/html": [
       "<table>\n",
       "    <tr>\n",
       "        <th>total_debt</th>\n",
       "    </tr>\n",
       "    <tr>\n",
       "        <td>3079734.49</td>\n",
       "    </tr>\n",
       "</table>"
      ],
      "text/plain": [
       "[(Decimal('3079734.49'),)]"
      ]
     },
     "execution_count": 9,
     "metadata": {},
     "output_type": "execute_result"
    }
   ],
   "source": [
    "%%sql\n",
    "SELECT \n",
    "    ROUND(SUM(debt)/1000000, 2) AS total_debt\n",
    "FROM international_debt; "
   ]
  },
  {
   "cell_type": "code",
   "execution_count": 12,
   "metadata": {},
   "outputs": [
    {
     "name": "stdout",
     "output_type": "stream",
     "text": [
      " * postgresql:///international_debt\n",
      "5 rows affected.\n"
     ]
    },
    {
     "data": {
      "text/html": [
       "<table>\n",
       "    <tr>\n",
       "        <th>country_name</th>\n",
       "        <th>total_debt</th>\n",
       "    </tr>\n",
       "    <tr>\n",
       "        <td>China</td>\n",
       "        <td>285793494734.200001568</td>\n",
       "    </tr>\n",
       "    <tr>\n",
       "        <td>Brazil</td>\n",
       "        <td>280623966140.800007581</td>\n",
       "    </tr>\n",
       "    <tr>\n",
       "        <td>South Asia</td>\n",
       "        <td>247608723990.600003211</td>\n",
       "    </tr>\n",
       "    <tr>\n",
       "        <td>Least developed countries: UN classification</td>\n",
       "        <td>212880992791.900000988</td>\n",
       "    </tr>\n",
       "    <tr>\n",
       "        <td>Russian Federation</td>\n",
       "        <td>191289057259.200001943</td>\n",
       "    </tr>\n",
       "</table>"
      ],
      "text/plain": [
       "[('China', Decimal('285793494734.200001568')),\n",
       " ('Brazil', Decimal('280623966140.800007581')),\n",
       " ('South Asia', Decimal('247608723990.600003211')),\n",
       " ('Least developed countries: UN classification', Decimal('212880992791.900000988')),\n",
       " ('Russian Federation', Decimal('191289057259.200001943'))]"
      ]
     },
     "execution_count": 12,
     "metadata": {},
     "output_type": "execute_result"
    }
   ],
   "source": [
    "%%sql\n",
    "SELECT \n",
    "    country_name, \n",
    "    SUM(debt) AS total_debt\n",
    "FROM international_debt\n",
    "GROUP BY country_name\n",
    "ORDER BY total_debt DESC\n",
    "LIMIT 5;"
   ]
  },
  {
   "cell_type": "code",
   "execution_count": 14,
   "metadata": {},
   "outputs": [
    {
     "name": "stdout",
     "output_type": "stream",
     "text": [
      " * postgresql:///international_debt\n",
      "9 rows affected.\n"
     ]
    },
    {
     "data": {
      "text/html": [
       "<table>\n",
       "    <tr>\n",
       "        <th>debt_indicator</th>\n",
       "        <th>indicator_name</th>\n",
       "        <th>average_debt</th>\n",
       "    </tr>\n",
       "    <tr>\n",
       "        <td>DT.AMT.DLXF.CD</td>\n",
       "        <td>Principal repayments on external debt, long-term (AMT, current US$)</td>\n",
       "        <td>5904868401.499193612</td>\n",
       "    </tr>\n",
       "    <tr>\n",
       "        <td>DT.AMT.DPNG.CD</td>\n",
       "        <td>Principal repayments on external debt, private nonguaranteed (PNG) (AMT, current US$)</td>\n",
       "        <td>5161194333.812658349</td>\n",
       "    </tr>\n",
       "    <tr>\n",
       "        <td>DT.DIS.DLXF.CD</td>\n",
       "        <td>Disbursements on external debt, long-term (DIS, current US$)</td>\n",
       "        <td>2152041216.890243888</td>\n",
       "    </tr>\n",
       "    <tr>\n",
       "        <td>DT.DIS.OFFT.CD</td>\n",
       "        <td>PPG, official creditors (DIS, current US$)</td>\n",
       "        <td>1958983452.859836046</td>\n",
       "    </tr>\n",
       "    <tr>\n",
       "        <td>DT.AMT.PRVT.CD</td>\n",
       "        <td>PPG, private creditors (AMT, current US$)</td>\n",
       "        <td>1803694101.963265321</td>\n",
       "    </tr>\n",
       "    <tr>\n",
       "        <td>DT.INT.DLXF.CD</td>\n",
       "        <td>Interest payments on external debt, long-term (INT, current US$)</td>\n",
       "        <td>1644024067.650806481</td>\n",
       "    </tr>\n",
       "    <tr>\n",
       "        <td>DT.DIS.BLAT.CD</td>\n",
       "        <td>PPG, bilateral (DIS, current US$)</td>\n",
       "        <td>1223139290.398230108</td>\n",
       "    </tr>\n",
       "    <tr>\n",
       "        <td>DT.INT.DPNG.CD</td>\n",
       "        <td>Interest payments on external debt, private nonguaranteed (PNG) (INT, current US$)</td>\n",
       "        <td>1220410844.421518983</td>\n",
       "    </tr>\n",
       "    <tr>\n",
       "        <td>DT.AMT.OFFT.CD</td>\n",
       "        <td>PPG, official creditors (AMT, current US$)</td>\n",
       "        <td>1191187963.083064523</td>\n",
       "    </tr>\n",
       "</table>"
      ],
      "text/plain": [
       "[('DT.AMT.DLXF.CD', 'Principal repayments on external debt, long-term (AMT, current US$)', Decimal('5904868401.499193612')),\n",
       " ('DT.AMT.DPNG.CD', 'Principal repayments on external debt, private nonguaranteed (PNG) (AMT, current US$)', Decimal('5161194333.812658349')),\n",
       " ('DT.DIS.DLXF.CD', 'Disbursements on external debt, long-term (DIS, current US$)', Decimal('2152041216.890243888')),\n",
       " ('DT.DIS.OFFT.CD', 'PPG, official creditors (DIS, current US$)', Decimal('1958983452.859836046')),\n",
       " ('DT.AMT.PRVT.CD', 'PPG, private creditors (AMT, current US$)', Decimal('1803694101.963265321')),\n",
       " ('DT.INT.DLXF.CD', 'Interest payments on external debt, long-term (INT, current US$)', Decimal('1644024067.650806481')),\n",
       " ('DT.DIS.BLAT.CD', 'PPG, bilateral (DIS, current US$)', Decimal('1223139290.398230108')),\n",
       " ('DT.INT.DPNG.CD', 'Interest payments on external debt, private nonguaranteed (PNG) (INT, current US$)', Decimal('1220410844.421518983')),\n",
       " ('DT.AMT.OFFT.CD', 'PPG, official creditors (AMT, current US$)', Decimal('1191187963.083064523'))]"
      ]
     },
     "execution_count": 14,
     "metadata": {},
     "output_type": "execute_result"
    }
   ],
   "source": [
    "%%sql\n",
    "SELECT \n",
    "    indicator_code AS debt_indicator,\n",
    "    indicator_name,\n",
    "    AVG(debt) AS average_debt\n",
    "FROM international_debt\n",
    "GROUP BY debt_indicator, indicator_name\n",
    "ORDER BY average_debt DESC\n",
    "LIMIT 9;"
   ]
  },
  {
   "cell_type": "code",
   "execution_count": 16,
   "metadata": {},
   "outputs": [
    {
     "name": "stdout",
     "output_type": "stream",
     "text": [
      " * postgresql:///international_debt\n",
      "1 rows affected.\n"
     ]
    },
    {
     "data": {
      "text/html": [
       "<table>\n",
       "    <tr>\n",
       "        <th>country_name</th>\n",
       "        <th>indicator_name</th>\n",
       "    </tr>\n",
       "    <tr>\n",
       "        <td>China</td>\n",
       "        <td>Principal repayments on external debt, long-term (AMT, current US$)</td>\n",
       "    </tr>\n",
       "</table>"
      ],
      "text/plain": [
       "[('China', 'Principal repayments on external debt, long-term (AMT, current US$)')]"
      ]
     },
     "execution_count": 16,
     "metadata": {},
     "output_type": "execute_result"
    }
   ],
   "source": [
    "%%sql\n",
    "SELECT \n",
    "    country_name, \n",
    "    indicator_name\n",
    "FROM international_debt\n",
    "WHERE debt = (SELECT \n",
    "                  MAX(debt)\n",
    "              FROM international_debt\n",
    "              WHERE indicator_code='DT.AMT.DLXF.CD');"
   ]
  },
  {
   "cell_type": "code",
   "execution_count": 17,
   "metadata": {},
   "outputs": [
    {
     "name": "stdout",
     "output_type": "stream",
     "text": [
      " * postgresql:///international_debt\n",
      "20 rows affected.\n"
     ]
    },
    {
     "data": {
      "text/html": [
       "<table>\n",
       "    <tr>\n",
       "        <th>indicator_code</th>\n",
       "        <th>indicator_count</th>\n",
       "    </tr>\n",
       "    <tr>\n",
       "        <td>DT.INT.OFFT.CD</td>\n",
       "        <td>124</td>\n",
       "    </tr>\n",
       "    <tr>\n",
       "        <td>DT.INT.MLAT.CD</td>\n",
       "        <td>124</td>\n",
       "    </tr>\n",
       "    <tr>\n",
       "        <td>DT.INT.DLXF.CD</td>\n",
       "        <td>124</td>\n",
       "    </tr>\n",
       "    <tr>\n",
       "        <td>DT.AMT.OFFT.CD</td>\n",
       "        <td>124</td>\n",
       "    </tr>\n",
       "    <tr>\n",
       "        <td>DT.AMT.MLAT.CD</td>\n",
       "        <td>124</td>\n",
       "    </tr>\n",
       "    <tr>\n",
       "        <td>DT.AMT.DLXF.CD</td>\n",
       "        <td>124</td>\n",
       "    </tr>\n",
       "    <tr>\n",
       "        <td>DT.DIS.DLXF.CD</td>\n",
       "        <td>123</td>\n",
       "    </tr>\n",
       "    <tr>\n",
       "        <td>DT.INT.BLAT.CD</td>\n",
       "        <td>122</td>\n",
       "    </tr>\n",
       "    <tr>\n",
       "        <td>DT.DIS.OFFT.CD</td>\n",
       "        <td>122</td>\n",
       "    </tr>\n",
       "    <tr>\n",
       "        <td>DT.AMT.BLAT.CD</td>\n",
       "        <td>122</td>\n",
       "    </tr>\n",
       "    <tr>\n",
       "        <td>DT.DIS.MLAT.CD</td>\n",
       "        <td>120</td>\n",
       "    </tr>\n",
       "    <tr>\n",
       "        <td>DT.DIS.BLAT.CD</td>\n",
       "        <td>113</td>\n",
       "    </tr>\n",
       "    <tr>\n",
       "        <td>DT.INT.PRVT.CD</td>\n",
       "        <td>98</td>\n",
       "    </tr>\n",
       "    <tr>\n",
       "        <td>DT.AMT.PRVT.CD</td>\n",
       "        <td>98</td>\n",
       "    </tr>\n",
       "    <tr>\n",
       "        <td>DT.INT.PCBK.CD</td>\n",
       "        <td>84</td>\n",
       "    </tr>\n",
       "    <tr>\n",
       "        <td>DT.AMT.PCBK.CD</td>\n",
       "        <td>84</td>\n",
       "    </tr>\n",
       "    <tr>\n",
       "        <td>DT.INT.DPNG.CD</td>\n",
       "        <td>79</td>\n",
       "    </tr>\n",
       "    <tr>\n",
       "        <td>DT.AMT.DPNG.CD</td>\n",
       "        <td>79</td>\n",
       "    </tr>\n",
       "    <tr>\n",
       "        <td>DT.INT.PBND.CD</td>\n",
       "        <td>69</td>\n",
       "    </tr>\n",
       "    <tr>\n",
       "        <td>DT.AMT.PBND.CD</td>\n",
       "        <td>69</td>\n",
       "    </tr>\n",
       "</table>"
      ],
      "text/plain": [
       "[('DT.INT.OFFT.CD', 124),\n",
       " ('DT.INT.MLAT.CD', 124),\n",
       " ('DT.INT.DLXF.CD', 124),\n",
       " ('DT.AMT.OFFT.CD', 124),\n",
       " ('DT.AMT.MLAT.CD', 124),\n",
       " ('DT.AMT.DLXF.CD', 124),\n",
       " ('DT.DIS.DLXF.CD', 123),\n",
       " ('DT.INT.BLAT.CD', 122),\n",
       " ('DT.DIS.OFFT.CD', 122),\n",
       " ('DT.AMT.BLAT.CD', 122),\n",
       " ('DT.DIS.MLAT.CD', 120),\n",
       " ('DT.DIS.BLAT.CD', 113),\n",
       " ('DT.INT.PRVT.CD', 98),\n",
       " ('DT.AMT.PRVT.CD', 98),\n",
       " ('DT.INT.PCBK.CD', 84),\n",
       " ('DT.AMT.PCBK.CD', 84),\n",
       " ('DT.INT.DPNG.CD', 79),\n",
       " ('DT.AMT.DPNG.CD', 79),\n",
       " ('DT.INT.PBND.CD', 69),\n",
       " ('DT.AMT.PBND.CD', 69)]"
      ]
     },
     "execution_count": 17,
     "metadata": {},
     "output_type": "execute_result"
    }
   ],
   "source": [
    "%%sql\n",
    "SELECT \n",
    "    indicator_code,\n",
    "    COUNT(indicator_code) AS indicator_count\n",
    "FROM international_debt\n",
    "GROUP BY indicator_code\n",
    "ORDER BY indicator_count DESC, indicator_code DESC\n",
    "LIMIT 20;"
   ]
  },
  {
   "cell_type": "code",
   "execution_count": 18,
   "metadata": {},
   "outputs": [
    {
     "name": "stdout",
     "output_type": "stream",
     "text": [
      " * postgresql:///international_debt\n",
      "10 rows affected.\n"
     ]
    },
    {
     "data": {
      "text/html": [
       "<table>\n",
       "    <tr>\n",
       "        <th>country_name</th>\n",
       "        <th>maximum_debt</th>\n",
       "    </tr>\n",
       "    <tr>\n",
       "        <td>China</td>\n",
       "        <td>96218620835.699996948</td>\n",
       "    </tr>\n",
       "    <tr>\n",
       "        <td>Brazil</td>\n",
       "        <td>90041840304.100006104</td>\n",
       "    </tr>\n",
       "    <tr>\n",
       "        <td>Russian Federation</td>\n",
       "        <td>66589761833.5</td>\n",
       "    </tr>\n",
       "    <tr>\n",
       "        <td>Turkey</td>\n",
       "        <td>51555031005.800003052</td>\n",
       "    </tr>\n",
       "    <tr>\n",
       "        <td>South Asia</td>\n",
       "        <td>48756295898.199996948</td>\n",
       "    </tr>\n",
       "    <tr>\n",
       "        <td>Least developed countries: UN classification</td>\n",
       "        <td>40160766261.599998474</td>\n",
       "    </tr>\n",
       "    <tr>\n",
       "        <td>IDA only</td>\n",
       "        <td>34531188113.199996948</td>\n",
       "    </tr>\n",
       "    <tr>\n",
       "        <td>India</td>\n",
       "        <td>31923507000.799999237</td>\n",
       "    </tr>\n",
       "    <tr>\n",
       "        <td>Indonesia</td>\n",
       "        <td>30916112653.799999237</td>\n",
       "    </tr>\n",
       "    <tr>\n",
       "        <td>Kazakhstan</td>\n",
       "        <td>27482093686.400001526</td>\n",
       "    </tr>\n",
       "</table>"
      ],
      "text/plain": [
       "[('China', Decimal('96218620835.699996948')),\n",
       " ('Brazil', Decimal('90041840304.100006104')),\n",
       " ('Russian Federation', Decimal('66589761833.5')),\n",
       " ('Turkey', Decimal('51555031005.800003052')),\n",
       " ('South Asia', Decimal('48756295898.199996948')),\n",
       " ('Least developed countries: UN classification', Decimal('40160766261.599998474')),\n",
       " ('IDA only', Decimal('34531188113.199996948')),\n",
       " ('India', Decimal('31923507000.799999237')),\n",
       " ('Indonesia', Decimal('30916112653.799999237')),\n",
       " ('Kazakhstan', Decimal('27482093686.400001526'))]"
      ]
     },
     "execution_count": 18,
     "metadata": {},
     "output_type": "execute_result"
    }
   ],
   "source": [
    "%%sql\n",
    "SELECT \n",
    "    country_name, \n",
    "    MAX(debt) AS maximum_debt\n",
    "FROM international_debt\n",
    "GROUP BY country_name\n",
    "ORDER BY maximum_debt DESC\n",
    "LIMIT 10;"
   ]
  },
  {
   "cell_type": "code",
   "execution_count": null,
   "metadata": {
    "collapsed": true
   },
   "outputs": [],
   "source": []
  }
 ],
 "metadata": {
  "kernelspec": {
   "display_name": "Python 3",
   "language": "python",
   "name": "python3"
  },
  "language_info": {
   "codemirror_mode": {
    "name": "ipython",
    "version": 3
   },
   "file_extension": ".py",
   "mimetype": "text/x-python",
   "name": "python",
   "nbconvert_exporter": "python",
   "pygments_lexer": "ipython3",
   "version": "3.6.7"
  }
 },
 "nbformat": 4,
 "nbformat_minor": 2
}
